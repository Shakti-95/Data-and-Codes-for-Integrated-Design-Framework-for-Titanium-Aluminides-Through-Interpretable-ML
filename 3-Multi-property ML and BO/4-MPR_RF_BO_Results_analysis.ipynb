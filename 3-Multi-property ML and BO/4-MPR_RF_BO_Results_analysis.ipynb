{
 "cells": [
  {
   "cell_type": "code",
   "execution_count": 1,
   "metadata": {},
   "outputs": [],
   "source": [
    "import pandas as pd\n",
    "import matplotlib.pyplot as plt"
   ]
  },
  {
   "cell_type": "markdown",
   "metadata": {},
   "source": [
    " # C-I predictions"
   ]
  },
  {
   "cell_type": "code",
   "execution_count": null,
   "metadata": {},
   "outputs": [
    {
     "data": {
      "application/vnd.microsoft.datawrangler.viewer.v0+json": {
       "columns": [
        {
         "name": "index",
         "rawType": "int64",
         "type": "integer"
        },
        {
         "name": "Ti",
         "rawType": "float64",
         "type": "float"
        },
        {
         "name": "Al",
         "rawType": "float64",
         "type": "float"
        },
        {
         "name": "Mn",
         "rawType": "float64",
         "type": "float"
        },
        {
         "name": "Nb",
         "rawType": "float64",
         "type": "float"
        },
        {
         "name": "Cr",
         "rawType": "float64",
         "type": "float"
        }
       ],
       "conversionMethod": "pd.DataFrame",
       "ref": "dfa88185-1a65-4ea7-90d3-6a2095a6298c",
       "rows": [
        [
         "0",
         "63.67",
         "30.86",
         "0.0",
         "2.14",
         "3.34"
        ],
        [
         "1",
         "41.61",
         "48.66",
         "0.0",
         "4.87",
         "4.87"
        ],
        [
         "2",
         "44.15",
         "49.47",
         "0.0",
         "1.43",
         "4.95"
        ],
        [
         "3",
         "34.44",
         "60.02",
         "0.0",
         "1.87",
         "3.67"
        ],
        [
         "4",
         "43.38",
         "48.06",
         "0.0",
         "4.81",
         "3.76"
        ],
        [
         "5",
         "40.3",
         "54.01",
         "0.0",
         "1.62",
         "4.08"
        ],
        [
         "6",
         "41.85",
         "53.46",
         "0.0",
         "2.17",
         "2.52"
        ],
        [
         "7",
         "46.37",
         "49.13",
         "0.0",
         "1.93",
         "2.57"
        ],
        [
         "8",
         "39.11",
         "52.89",
         "0.0",
         "5.29",
         "2.71"
        ],
        [
         "9",
         "47.33",
         "47.33",
         "0.0",
         "2.92",
         "2.43"
        ]
       ],
       "shape": {
        "columns": 5,
        "rows": 10
       }
      },
      "text/html": [
       "<div>\n",
       "<style scoped>\n",
       "    .dataframe tbody tr th:only-of-type {\n",
       "        vertical-align: middle;\n",
       "    }\n",
       "\n",
       "    .dataframe tbody tr th {\n",
       "        vertical-align: top;\n",
       "    }\n",
       "\n",
       "    .dataframe thead th {\n",
       "        text-align: right;\n",
       "    }\n",
       "</style>\n",
       "<table border=\"1\" class=\"dataframe\">\n",
       "  <thead>\n",
       "    <tr style=\"text-align: right;\">\n",
       "      <th></th>\n",
       "      <th>Ti</th>\n",
       "      <th>Al</th>\n",
       "      <th>Mn</th>\n",
       "      <th>Nb</th>\n",
       "      <th>Cr</th>\n",
       "    </tr>\n",
       "  </thead>\n",
       "  <tbody>\n",
       "    <tr>\n",
       "      <th>0</th>\n",
       "      <td>63.67</td>\n",
       "      <td>30.86</td>\n",
       "      <td>0.0</td>\n",
       "      <td>2.14</td>\n",
       "      <td>3.34</td>\n",
       "    </tr>\n",
       "    <tr>\n",
       "      <th>1</th>\n",
       "      <td>41.61</td>\n",
       "      <td>48.66</td>\n",
       "      <td>0.0</td>\n",
       "      <td>4.87</td>\n",
       "      <td>4.87</td>\n",
       "    </tr>\n",
       "    <tr>\n",
       "      <th>2</th>\n",
       "      <td>44.15</td>\n",
       "      <td>49.47</td>\n",
       "      <td>0.0</td>\n",
       "      <td>1.43</td>\n",
       "      <td>4.95</td>\n",
       "    </tr>\n",
       "    <tr>\n",
       "      <th>3</th>\n",
       "      <td>34.44</td>\n",
       "      <td>60.02</td>\n",
       "      <td>0.0</td>\n",
       "      <td>1.87</td>\n",
       "      <td>3.67</td>\n",
       "    </tr>\n",
       "    <tr>\n",
       "      <th>4</th>\n",
       "      <td>43.38</td>\n",
       "      <td>48.06</td>\n",
       "      <td>0.0</td>\n",
       "      <td>4.81</td>\n",
       "      <td>3.76</td>\n",
       "    </tr>\n",
       "    <tr>\n",
       "      <th>5</th>\n",
       "      <td>40.30</td>\n",
       "      <td>54.01</td>\n",
       "      <td>0.0</td>\n",
       "      <td>1.62</td>\n",
       "      <td>4.08</td>\n",
       "    </tr>\n",
       "    <tr>\n",
       "      <th>6</th>\n",
       "      <td>41.85</td>\n",
       "      <td>53.46</td>\n",
       "      <td>0.0</td>\n",
       "      <td>2.17</td>\n",
       "      <td>2.52</td>\n",
       "    </tr>\n",
       "    <tr>\n",
       "      <th>7</th>\n",
       "      <td>46.37</td>\n",
       "      <td>49.13</td>\n",
       "      <td>0.0</td>\n",
       "      <td>1.93</td>\n",
       "      <td>2.57</td>\n",
       "    </tr>\n",
       "    <tr>\n",
       "      <th>8</th>\n",
       "      <td>39.11</td>\n",
       "      <td>52.89</td>\n",
       "      <td>0.0</td>\n",
       "      <td>5.29</td>\n",
       "      <td>2.71</td>\n",
       "    </tr>\n",
       "    <tr>\n",
       "      <th>9</th>\n",
       "      <td>47.33</td>\n",
       "      <td>47.33</td>\n",
       "      <td>0.0</td>\n",
       "      <td>2.92</td>\n",
       "      <td>2.43</td>\n",
       "    </tr>\n",
       "  </tbody>\n",
       "</table>\n",
       "</div>"
      ],
      "text/plain": [
       "      Ti     Al   Mn    Nb    Cr\n",
       "0  63.67  30.86  0.0  2.14  3.34\n",
       "1  41.61  48.66  0.0  4.87  4.87\n",
       "2  44.15  49.47  0.0  1.43  4.95\n",
       "3  34.44  60.02  0.0  1.87  3.67\n",
       "4  43.38  48.06  0.0  4.81  3.76\n",
       "5  40.30  54.01  0.0  1.62  4.08\n",
       "6  41.85  53.46  0.0  2.17  2.52\n",
       "7  46.37  49.13  0.0  1.93  2.57\n",
       "8  39.11  52.89  0.0  5.29  2.71\n",
       "9  47.33  47.33  0.0  2.92  2.43"
      ]
     },
     "execution_count": 2,
     "metadata": {},
     "output_type": "execute_result"
    }
   ],
   "source": [
    "comp1 = pd.read_excel('MPR_RF_BO_Target-RT_TiAl2Cr2Nb_wCostmod-1_top10.xlsx')\n",
    "comp1 = comp1.iloc[:10, 1:6]\n",
    "comp1"
   ]
  },
  {
   "cell_type": "code",
   "execution_count": 3,
   "metadata": {},
   "outputs": [
    {
     "data": {
      "text/plain": [
       "Ti    44.221\n",
       "Al    49.389\n",
       "Mn     0.000\n",
       "Nb     2.905\n",
       "Cr     3.490\n",
       "dtype: float64"
      ]
     },
     "execution_count": 3,
     "metadata": {},
     "output_type": "execute_result"
    }
   ],
   "source": [
    "comp1_mean = comp1.mean()\n",
    "comp1_mean"
   ]
  },
  {
   "cell_type": "code",
   "execution_count": null,
   "metadata": {},
   "outputs": [
    {
     "data": {
      "application/vnd.microsoft.datawrangler.viewer.v0+json": {
       "columns": [
        {
         "name": "index",
         "rawType": "int64",
         "type": "integer"
        },
        {
         "name": "logYS",
         "rawType": "float64",
         "type": "float"
        },
        {
         "name": "logTS",
         "rawType": "float64",
         "type": "float"
        },
        {
         "name": "logEl",
         "rawType": "float64",
         "type": "float"
        },
        {
         "name": "logCost",
         "rawType": "float64",
         "type": "float"
        }
       ],
       "conversionMethod": "pd.DataFrame",
       "ref": "c0a768f3-d823-451b-ac28-6a890dde6676",
       "rows": [
        [
         "0",
         "2.853081698961245",
         "2.903978464599252",
         "0.02701253456636982",
         "0.7222282514043761"
        ],
        [
         "1",
         "2.783538040599209",
         "2.846708584172166",
         "-0.1320332331749889",
         "0.6521218359581694"
        ],
        [
         "2",
         "2.480417217083513",
         "2.540645080055031",
         "0.1393582944319388",
         "0.6023090503832704"
        ],
        [
         "3",
         "2.700357408860956",
         "2.764861934720355",
         "-0.1706859678805296",
         "0.6292039646774459"
        ],
        [
         "4",
         "2.783033467139791",
         "2.848887218143268",
         "-0.137652595241945",
         "0.6484689771007943"
        ],
        [
         "5",
         "2.480417217083513",
         "2.540645080055031",
         "0.1393582944319388",
         "0.6023090503832704"
        ],
        [
         "6",
         "2.697507826922408",
         "2.762200080365152",
         "-0.178478913127767",
         "0.6303716576262971"
        ],
        [
         "7",
         "2.668306618036051",
         "2.728220777667149",
         "-0.2343259904041964",
         "0.6221619887869111"
        ],
        [
         "8",
         "2.786175033095697",
         "2.84936209139472",
         "-0.1340605969854806",
         "0.6543370212933796"
        ],
        [
         "9",
         "2.672996055741087",
         "2.743887263996001",
         "-0.02072771443550037",
         "0.6744950063789988"
        ]
       ],
       "shape": {
        "columns": 4,
        "rows": 10
       }
      },
      "text/html": [
       "<div>\n",
       "<style scoped>\n",
       "    .dataframe tbody tr th:only-of-type {\n",
       "        vertical-align: middle;\n",
       "    }\n",
       "\n",
       "    .dataframe tbody tr th {\n",
       "        vertical-align: top;\n",
       "    }\n",
       "\n",
       "    .dataframe thead th {\n",
       "        text-align: right;\n",
       "    }\n",
       "</style>\n",
       "<table border=\"1\" class=\"dataframe\">\n",
       "  <thead>\n",
       "    <tr style=\"text-align: right;\">\n",
       "      <th></th>\n",
       "      <th>logYS</th>\n",
       "      <th>logTS</th>\n",
       "      <th>logEl</th>\n",
       "      <th>logCost</th>\n",
       "    </tr>\n",
       "  </thead>\n",
       "  <tbody>\n",
       "    <tr>\n",
       "      <th>0</th>\n",
       "      <td>2.853082</td>\n",
       "      <td>2.903978</td>\n",
       "      <td>0.027013</td>\n",
       "      <td>0.722228</td>\n",
       "    </tr>\n",
       "    <tr>\n",
       "      <th>1</th>\n",
       "      <td>2.783538</td>\n",
       "      <td>2.846709</td>\n",
       "      <td>-0.132033</td>\n",
       "      <td>0.652122</td>\n",
       "    </tr>\n",
       "    <tr>\n",
       "      <th>2</th>\n",
       "      <td>2.480417</td>\n",
       "      <td>2.540645</td>\n",
       "      <td>0.139358</td>\n",
       "      <td>0.602309</td>\n",
       "    </tr>\n",
       "    <tr>\n",
       "      <th>3</th>\n",
       "      <td>2.700357</td>\n",
       "      <td>2.764862</td>\n",
       "      <td>-0.170686</td>\n",
       "      <td>0.629204</td>\n",
       "    </tr>\n",
       "    <tr>\n",
       "      <th>4</th>\n",
       "      <td>2.783033</td>\n",
       "      <td>2.848887</td>\n",
       "      <td>-0.137653</td>\n",
       "      <td>0.648469</td>\n",
       "    </tr>\n",
       "    <tr>\n",
       "      <th>5</th>\n",
       "      <td>2.480417</td>\n",
       "      <td>2.540645</td>\n",
       "      <td>0.139358</td>\n",
       "      <td>0.602309</td>\n",
       "    </tr>\n",
       "    <tr>\n",
       "      <th>6</th>\n",
       "      <td>2.697508</td>\n",
       "      <td>2.762200</td>\n",
       "      <td>-0.178479</td>\n",
       "      <td>0.630372</td>\n",
       "    </tr>\n",
       "    <tr>\n",
       "      <th>7</th>\n",
       "      <td>2.668307</td>\n",
       "      <td>2.728221</td>\n",
       "      <td>-0.234326</td>\n",
       "      <td>0.622162</td>\n",
       "    </tr>\n",
       "    <tr>\n",
       "      <th>8</th>\n",
       "      <td>2.786175</td>\n",
       "      <td>2.849362</td>\n",
       "      <td>-0.134061</td>\n",
       "      <td>0.654337</td>\n",
       "    </tr>\n",
       "    <tr>\n",
       "      <th>9</th>\n",
       "      <td>2.672996</td>\n",
       "      <td>2.743887</td>\n",
       "      <td>-0.020728</td>\n",
       "      <td>0.674495</td>\n",
       "    </tr>\n",
       "  </tbody>\n",
       "</table>\n",
       "</div>"
      ],
      "text/plain": [
       "      logYS     logTS     logEl   logCost\n",
       "0  2.853082  2.903978  0.027013  0.722228\n",
       "1  2.783538  2.846709 -0.132033  0.652122\n",
       "2  2.480417  2.540645  0.139358  0.602309\n",
       "3  2.700357  2.764862 -0.170686  0.629204\n",
       "4  2.783033  2.848887 -0.137653  0.648469\n",
       "5  2.480417  2.540645  0.139358  0.602309\n",
       "6  2.697508  2.762200 -0.178479  0.630372\n",
       "7  2.668307  2.728221 -0.234326  0.622162\n",
       "8  2.786175  2.849362 -0.134061  0.654337\n",
       "9  2.672996  2.743887 -0.020728  0.674495"
      ]
     },
     "execution_count": 4,
     "metadata": {},
     "output_type": "execute_result"
    }
   ],
   "source": [
    "prop1 = pd.read_excel('MPR_RF_BO_Target-RT_TiAl2Cr2Nb_wCostmod-1_top10.xlsx')\n",
    "prop1 = prop1.iloc[:10, 22:26]\n",
    "prop1"
   ]
  },
  {
   "cell_type": "code",
   "execution_count": 5,
   "metadata": {},
   "outputs": [
    {
     "data": {
      "text/plain": [
       "logYS      2.690583\n",
       "logTS      2.752940\n",
       "logEl     -0.070224\n",
       "logCost    0.643801\n",
       "dtype: float64"
      ]
     },
     "execution_count": 5,
     "metadata": {},
     "output_type": "execute_result"
    }
   ],
   "source": [
    "prop1_mean = prop1.mean()\n",
    "prop1_mean"
   ]
  },
  {
   "cell_type": "code",
   "execution_count": null,
   "metadata": {},
   "outputs": [
    {
     "data": {
      "application/vnd.microsoft.datawrangler.viewer.v0+json": {
       "columns": [
        {
         "name": "index",
         "rawType": "int64",
         "type": "integer"
        },
        {
         "name": "YS",
         "rawType": "float64",
         "type": "float"
        },
        {
         "name": "TS",
         "rawType": "int64",
         "type": "integer"
        },
        {
         "name": "El",
         "rawType": "float64",
         "type": "float"
        },
        {
         "name": "Cost",
         "rawType": "float64",
         "type": "float"
        }
       ],
       "conversionMethod": "pd.DataFrame",
       "ref": "13394492-9249-4149-85e8-7a9a07ef2aa4",
       "rows": [
        [
         "0",
         "498.32",
         "580",
         "0.67",
         "4.25"
        ]
       ],
       "shape": {
        "columns": 4,
        "rows": 1
       }
      },
      "text/html": [
       "<div>\n",
       "<style scoped>\n",
       "    .dataframe tbody tr th:only-of-type {\n",
       "        vertical-align: middle;\n",
       "    }\n",
       "\n",
       "    .dataframe tbody tr th {\n",
       "        vertical-align: top;\n",
       "    }\n",
       "\n",
       "    .dataframe thead th {\n",
       "        text-align: right;\n",
       "    }\n",
       "</style>\n",
       "<table border=\"1\" class=\"dataframe\">\n",
       "  <thead>\n",
       "    <tr style=\"text-align: right;\">\n",
       "      <th></th>\n",
       "      <th>YS</th>\n",
       "      <th>TS</th>\n",
       "      <th>El</th>\n",
       "      <th>Cost</th>\n",
       "    </tr>\n",
       "  </thead>\n",
       "  <tbody>\n",
       "    <tr>\n",
       "      <th>0</th>\n",
       "      <td>498.32</td>\n",
       "      <td>580</td>\n",
       "      <td>0.67</td>\n",
       "      <td>4.25</td>\n",
       "    </tr>\n",
       "  </tbody>\n",
       "</table>\n",
       "</div>"
      ],
      "text/plain": [
       "       YS   TS    El  Cost\n",
       "0  498.32  580  0.67  4.25"
      ]
     },
     "execution_count": 6,
     "metadata": {},
     "output_type": "execute_result"
    }
   ],
   "source": [
    "prop1_pred = pd.read_excel('MPR_RF_BO_Target-RT_TiAl2Cr2Nb_wCostmod-1_top10_Properties.xlsx')\n",
    "prop1_pred = prop1_pred.iloc[:,1:]\n",
    "prop1_pred"
   ]
  },
  {
   "cell_type": "code",
   "execution_count": 7,
   "metadata": {},
   "outputs": [
    {
     "data": {
      "image/png": "[encoded data removed]",
      "text/plain": [
       "<Figure size 1000x1000 with 4 Axes>"
      ]
     },
     "metadata": {},
     "output_type": "display_data"
    }
   ],
   "source": [
    "# Create subplots: 1 rows, 4 column\n",
    "fig, axs = plt.subplots(2, 2, figsize=(10, 10))\n",
    "\n",
    "# First plot: Composition\n",
    "cols_to_plot = [\"Ti\", \"Al\", \"Nb\", \"Cr\"]\n",
    "axs[0][0].boxplot(comp1[cols_to_plot])\n",
    "axs[0][0].set_title(\"Box Plot for elements of C-I predictions\", fontsize=14)\n",
    "axs[0][0].set_ylabel(\"At. %\", fontsize=14)\n",
    "# Define the x positions corresponding to each boxplot and label them with element names\n",
    "x_positions = range(1, len(cols_to_plot) + 1)\n",
    "axs[0][0].set_xticks(ticks=x_positions, labels=cols_to_plot)\n",
    "# Overlay the mean values as diamond markers.\n",
    "axs[0][0].plot(x_positions, comp1_mean[cols_to_plot], marker='D', color='cadetblue', linestyle='None', label='Mean composition')\n",
    "axs[0][0].tick_params(axis='x', labelsize=12)\n",
    "axs[0][0].tick_params(axis='y', labelsize=12)\n",
    "axs[0][0].grid(True)\n",
    "axs[0][0].legend(fontsize=10)\n",
    "\n",
    "# Second plot: YS and TS\n",
    "axs[0][1].boxplot(10**prop1[[\"logYS\", \"logTS\"]])\n",
    "axs[0][1].set_title(r\"Box Plot for $\\sigma_y$ and $\\sigma$ for C-I predictions\", fontsize=14)\n",
    "axs[0][1].set_ylabel(\"MPa\", fontsize=14)\n",
    "x_positions = range(1, len([\"YS\", \"TS\"]) + 1)\n",
    "axs[0][1].set_xticks(ticks=x_positions, labels=[r\"$\\sigma_y$\", r\"$\\sigma$\"])\n",
    "# Extract mean values for YS and TS\n",
    "mean_values = [10**prop1_mean[\"logYS\"], 10**prop1_mean[\"logTS\"]]\n",
    "axs[0][1].plot(x_positions, mean_values, marker='D', color='cadetblue', linestyle='None', label='Mean values')\n",
    "# Extract predicted values for YS and TS\n",
    "predicted_values = [prop1_pred[\"YS\"], prop1_pred[\"TS\"]]\n",
    "axs[0][1].plot(x_positions, predicted_values, marker='o', color='indianred', linestyle='None', label='Predicted values')\n",
    "axs[0][1].tick_params(axis='x', labelsize=12)\n",
    "axs[0][1].tick_params(axis='y', labelsize=12)\n",
    "axs[0][1].grid(True)\n",
    "axs[0][1].legend(fontsize=10)\n",
    "\n",
    "# Third plot: El\n",
    "axs[1][0].boxplot(10**prop1[[\"logEl\"]])\n",
    "axs[1][0].set_title(r\"Box Plot for $\\delta$ for C-I predictions\", fontsize=14)\n",
    "axs[1][0].set_ylabel(\"%\", fontsize=14)\n",
    "x_positions = range(1, len([\"El\"]) + 1)\n",
    "axs[1][0].set_xticks(ticks=x_positions, labels=[r\"$\\delta$\"])\n",
    "# Extract mean values for El\n",
    "axs[1][0].plot(x_positions, 10**prop1_mean[\"logEl\"], marker='D', color='cadetblue', linestyle='None', label='Mean values')\n",
    "# Extract predicted values for El\n",
    "axs[1][0].plot(x_positions, prop1_pred[\"El\"], marker='o', color='indianred', linestyle='None', label='Predicted values')\n",
    "axs[1][0].tick_params(axis='x', labelsize=12)\n",
    "axs[1][0].tick_params(axis='y', labelsize=12)\n",
    "axs[1][0].grid(True)\n",
    "axs[1][0].legend(fontsize=10)\n",
    "\n",
    "# Fourth plot: Cost\n",
    "axs[1][1].boxplot(10**prop1[[\"logCost\"]])\n",
    "axs[1][1].set_title(\"Box Plot for $Cost$ for C-I predictions\", fontsize=14)\n",
    "axs[1][1].set_ylabel(\"$/kg\", fontsize=14)\n",
    "x_positions = range(1, len([\"Cost\"]) + 1)\n",
    "axs[1][1].set_xticks(ticks=x_positions, labels=[r\"$Cost$\"])\n",
    "# Extract mean values for El\n",
    "axs[1][1].plot(x_positions, 10**prop1_mean[\"logCost\"], marker='D', color='cadetblue', linestyle='None', label='Mean values')\n",
    "# Extract predicted values for El\n",
    "axs[1][1].plot(x_positions, prop1_pred[\"Cost\"], marker='o', color='indianred', linestyle='None', label='Predicted values')\n",
    "axs[1][1].tick_params(axis='x', labelsize=12)\n",
    "axs[1][1].tick_params(axis='y', labelsize=12)\n",
    "axs[1][1].grid(True)\n",
    "axs[1][1].legend(fontsize=10)\n",
    "\n",
    "plt.tight_layout()\n",
    "plt.show()"
   ]
  },
  {
   "cell_type": "code",
   "execution_count": 8,
   "metadata": {},
   "outputs": [],
   "source": [
    "fig.savefig('Plots/Box Plot Predictions C-I.jpg')"
   ]
  },
  {
   "cell_type": "markdown",
   "metadata": {},
   "source": [
    "# C-II predictions"
   ]
  },
  {
   "cell_type": "code",
   "execution_count": null,
   "metadata": {},
   "outputs": [
    {
     "data": {
      "application/vnd.microsoft.datawrangler.viewer.v0+json": {
       "columns": [
        {
         "name": "index",
         "rawType": "int64",
         "type": "integer"
        },
        {
         "name": "Ti",
         "rawType": "float64",
         "type": "float"
        },
        {
         "name": "Al",
         "rawType": "float64",
         "type": "float"
        },
        {
         "name": "Mn",
         "rawType": "float64",
         "type": "float"
        },
        {
         "name": "Nb",
         "rawType": "float64",
         "type": "float"
        },
        {
         "name": "Cr",
         "rawType": "float64",
         "type": "float"
        }
       ],
       "conversionMethod": "pd.DataFrame",
       "ref": "e1ebdaf5-6814-4dc2-a757-f50ada70eec5",
       "rows": [
        [
         "0",
         "63.67",
         "30.86",
         "0.0",
         "2.14",
         "3.34"
        ],
        [
         "1",
         "44.37",
         "48.12",
         "0.0",
         "4.81",
         "2.7"
        ],
        [
         "2",
         "37.42",
         "56.13",
         "0.0",
         "1.73",
         "4.72"
        ],
        [
         "3",
         "55.22",
         "35.14",
         "0.0",
         "4.02",
         "5.63"
        ],
        [
         "4",
         "47.9",
         "45.54",
         "0.0",
         "2.91",
         "3.66"
        ],
        [
         "5",
         "37.84",
         "53.42",
         "0.0",
         "5.34",
         "3.4"
        ],
        [
         "6",
         "40.56",
         "54.67",
         "0.0",
         "1.98",
         "2.79"
        ],
        [
         "7",
         "47.71",
         "47.7",
         "0.0",
         "1.41",
         "3.19"
        ],
        [
         "8",
         "38.36",
         "53.19",
         "0.0",
         "3.13",
         "5.32"
        ],
        [
         "9",
         "47.28",
         "47.28",
         "0.0",
         "2.08",
         "3.35"
        ]
       ],
       "shape": {
        "columns": 5,
        "rows": 10
       }
      },
      "text/html": [
       "<div>\n",
       "<style scoped>\n",
       "    .dataframe tbody tr th:only-of-type {\n",
       "        vertical-align: middle;\n",
       "    }\n",
       "\n",
       "    .dataframe tbody tr th {\n",
       "        vertical-align: top;\n",
       "    }\n",
       "\n",
       "    .dataframe thead th {\n",
       "        text-align: right;\n",
       "    }\n",
       "</style>\n",
       "<table border=\"1\" class=\"dataframe\">\n",
       "  <thead>\n",
       "    <tr style=\"text-align: right;\">\n",
       "      <th></th>\n",
       "      <th>Ti</th>\n",
       "      <th>Al</th>\n",
       "      <th>Mn</th>\n",
       "      <th>Nb</th>\n",
       "      <th>Cr</th>\n",
       "    </tr>\n",
       "  </thead>\n",
       "  <tbody>\n",
       "    <tr>\n",
       "      <th>0</th>\n",
       "      <td>63.67</td>\n",
       "      <td>30.86</td>\n",
       "      <td>0.0</td>\n",
       "      <td>2.14</td>\n",
       "      <td>3.34</td>\n",
       "    </tr>\n",
       "    <tr>\n",
       "      <th>1</th>\n",
       "      <td>44.37</td>\n",
       "      <td>48.12</td>\n",
       "      <td>0.0</td>\n",
       "      <td>4.81</td>\n",
       "      <td>2.70</td>\n",
       "    </tr>\n",
       "    <tr>\n",
       "      <th>2</th>\n",
       "      <td>37.42</td>\n",
       "      <td>56.13</td>\n",
       "      <td>0.0</td>\n",
       "      <td>1.73</td>\n",
       "      <td>4.72</td>\n",
       "    </tr>\n",
       "    <tr>\n",
       "      <th>3</th>\n",
       "      <td>55.22</td>\n",
       "      <td>35.14</td>\n",
       "      <td>0.0</td>\n",
       "      <td>4.02</td>\n",
       "      <td>5.63</td>\n",
       "    </tr>\n",
       "    <tr>\n",
       "      <th>4</th>\n",
       "      <td>47.90</td>\n",
       "      <td>45.54</td>\n",
       "      <td>0.0</td>\n",
       "      <td>2.91</td>\n",
       "      <td>3.66</td>\n",
       "    </tr>\n",
       "    <tr>\n",
       "      <th>5</th>\n",
       "      <td>37.84</td>\n",
       "      <td>53.42</td>\n",
       "      <td>0.0</td>\n",
       "      <td>5.34</td>\n",
       "      <td>3.40</td>\n",
       "    </tr>\n",
       "    <tr>\n",
       "      <th>6</th>\n",
       "      <td>40.56</td>\n",
       "      <td>54.67</td>\n",
       "      <td>0.0</td>\n",
       "      <td>1.98</td>\n",
       "      <td>2.79</td>\n",
       "    </tr>\n",
       "    <tr>\n",
       "      <th>7</th>\n",
       "      <td>47.71</td>\n",
       "      <td>47.70</td>\n",
       "      <td>0.0</td>\n",
       "      <td>1.41</td>\n",
       "      <td>3.19</td>\n",
       "    </tr>\n",
       "    <tr>\n",
       "      <th>8</th>\n",
       "      <td>38.36</td>\n",
       "      <td>53.19</td>\n",
       "      <td>0.0</td>\n",
       "      <td>3.13</td>\n",
       "      <td>5.32</td>\n",
       "    </tr>\n",
       "    <tr>\n",
       "      <th>9</th>\n",
       "      <td>47.28</td>\n",
       "      <td>47.28</td>\n",
       "      <td>0.0</td>\n",
       "      <td>2.08</td>\n",
       "      <td>3.35</td>\n",
       "    </tr>\n",
       "  </tbody>\n",
       "</table>\n",
       "</div>"
      ],
      "text/plain": [
       "      Ti     Al   Mn    Nb    Cr\n",
       "0  63.67  30.86  0.0  2.14  3.34\n",
       "1  44.37  48.12  0.0  4.81  2.70\n",
       "2  37.42  56.13  0.0  1.73  4.72\n",
       "3  55.22  35.14  0.0  4.02  5.63\n",
       "4  47.90  45.54  0.0  2.91  3.66\n",
       "5  37.84  53.42  0.0  5.34  3.40\n",
       "6  40.56  54.67  0.0  1.98  2.79\n",
       "7  47.71  47.70  0.0  1.41  3.19\n",
       "8  38.36  53.19  0.0  3.13  5.32\n",
       "9  47.28  47.28  0.0  2.08  3.35"
      ]
     },
     "execution_count": 9,
     "metadata": {},
     "output_type": "execute_result"
    }
   ],
   "source": [
    "comp2 = pd.read_excel('MPR_RF_BO_Target-RT_TiAl2Cr2Nb_wCostmod-2_top10.xlsx')\n",
    "comp2 = comp2.iloc[:10, 1:6]\n",
    "comp2"
   ]
  },
  {
   "cell_type": "code",
   "execution_count": 10,
   "metadata": {},
   "outputs": [
    {
     "data": {
      "text/plain": [
       "Ti    46.033\n",
       "Al    47.205\n",
       "Mn     0.000\n",
       "Nb     2.955\n",
       "Cr     3.810\n",
       "dtype: float64"
      ]
     },
     "execution_count": 10,
     "metadata": {},
     "output_type": "execute_result"
    }
   ],
   "source": [
    "comp2_mean = comp2.mean()\n",
    "comp2_mean"
   ]
  },
  {
   "cell_type": "code",
   "execution_count": null,
   "metadata": {},
   "outputs": [
    {
     "data": {
      "application/vnd.microsoft.datawrangler.viewer.v0+json": {
       "columns": [
        {
         "name": "index",
         "rawType": "int64",
         "type": "integer"
        },
        {
         "name": "logYS",
         "rawType": "float64",
         "type": "float"
        },
        {
         "name": "logTS",
         "rawType": "float64",
         "type": "float"
        },
        {
         "name": "logEl",
         "rawType": "float64",
         "type": "float"
        },
        {
         "name": "logCost",
         "rawType": "float64",
         "type": "float"
        }
       ],
       "conversionMethod": "pd.DataFrame",
       "ref": "04c060d3-7704-4a4c-b901-e3bf35549bf4",
       "rows": [
        [
         "0",
         "2.853081698961245",
         "2.903978464599252",
         "0.02701253456636982",
         "0.7222282514043761"
        ],
        [
         "1",
         "2.783033467139791",
         "2.848887218143268",
         "-0.137652595241945",
         "0.6484689771007943"
        ],
        [
         "2",
         "2.696562338140132",
         "2.761374787144451",
         "-0.1671574388836078",
         "0.6270986724772423"
        ],
        [
         "3",
         "2.850749809501313",
         "2.89846729151341",
         "-0.01281416498000484",
         "0.7136309838476773"
        ],
        [
         "4",
         "2.728436048631401",
         "2.791117239558305",
         "0.04929292650193015",
         "0.6500992713803452"
        ],
        [
         "5",
         "2.786175033095697",
         "2.84936209139472",
         "-0.1340605969854806",
         "0.6543370212933796"
        ],
        [
         "6",
         "2.697507826922408",
         "2.762200080365152",
         "-0.178478913127767",
         "0.6303716576262971"
        ],
        [
         "7",
         "2.480417217083513",
         "2.540645080055031",
         "0.1393582944319388",
         "0.6023090503832704"
        ],
        [
         "8",
         "2.698689253990604",
         "2.763435376145949",
         "-0.1679839150985669",
         "0.6313033239732577"
        ],
        [
         "9",
         "2.673628709803962",
         "2.743979365920336",
         "-0.04694390746263347",
         "0.6724119874440198"
        ]
       ],
       "shape": {
        "columns": 4,
        "rows": 10
       }
      },
      "text/html": [
       "<div>\n",
       "<style scoped>\n",
       "    .dataframe tbody tr th:only-of-type {\n",
       "        vertical-align: middle;\n",
       "    }\n",
       "\n",
       "    .dataframe tbody tr th {\n",
       "        vertical-align: top;\n",
       "    }\n",
       "\n",
       "    .dataframe thead th {\n",
       "        text-align: right;\n",
       "    }\n",
       "</style>\n",
       "<table border=\"1\" class=\"dataframe\">\n",
       "  <thead>\n",
       "    <tr style=\"text-align: right;\">\n",
       "      <th></th>\n",
       "      <th>logYS</th>\n",
       "      <th>logTS</th>\n",
       "      <th>logEl</th>\n",
       "      <th>logCost</th>\n",
       "    </tr>\n",
       "  </thead>\n",
       "  <tbody>\n",
       "    <tr>\n",
       "      <th>0</th>\n",
       "      <td>2.853082</td>\n",
       "      <td>2.903978</td>\n",
       "      <td>0.027013</td>\n",
       "      <td>0.722228</td>\n",
       "    </tr>\n",
       "    <tr>\n",
       "      <th>1</th>\n",
       "      <td>2.783033</td>\n",
       "      <td>2.848887</td>\n",
       "      <td>-0.137653</td>\n",
       "      <td>0.648469</td>\n",
       "    </tr>\n",
       "    <tr>\n",
       "      <th>2</th>\n",
       "      <td>2.696562</td>\n",
       "      <td>2.761375</td>\n",
       "      <td>-0.167157</td>\n",
       "      <td>0.627099</td>\n",
       "    </tr>\n",
       "    <tr>\n",
       "      <th>3</th>\n",
       "      <td>2.850750</td>\n",
       "      <td>2.898467</td>\n",
       "      <td>-0.012814</td>\n",
       "      <td>0.713631</td>\n",
       "    </tr>\n",
       "    <tr>\n",
       "      <th>4</th>\n",
       "      <td>2.728436</td>\n",
       "      <td>2.791117</td>\n",
       "      <td>0.049293</td>\n",
       "      <td>0.650099</td>\n",
       "    </tr>\n",
       "    <tr>\n",
       "      <th>5</th>\n",
       "      <td>2.786175</td>\n",
       "      <td>2.849362</td>\n",
       "      <td>-0.134061</td>\n",
       "      <td>0.654337</td>\n",
       "    </tr>\n",
       "    <tr>\n",
       "      <th>6</th>\n",
       "      <td>2.697508</td>\n",
       "      <td>2.762200</td>\n",
       "      <td>-0.178479</td>\n",
       "      <td>0.630372</td>\n",
       "    </tr>\n",
       "    <tr>\n",
       "      <th>7</th>\n",
       "      <td>2.480417</td>\n",
       "      <td>2.540645</td>\n",
       "      <td>0.139358</td>\n",
       "      <td>0.602309</td>\n",
       "    </tr>\n",
       "    <tr>\n",
       "      <th>8</th>\n",
       "      <td>2.698689</td>\n",
       "      <td>2.763435</td>\n",
       "      <td>-0.167984</td>\n",
       "      <td>0.631303</td>\n",
       "    </tr>\n",
       "    <tr>\n",
       "      <th>9</th>\n",
       "      <td>2.673629</td>\n",
       "      <td>2.743979</td>\n",
       "      <td>-0.046944</td>\n",
       "      <td>0.672412</td>\n",
       "    </tr>\n",
       "  </tbody>\n",
       "</table>\n",
       "</div>"
      ],
      "text/plain": [
       "      logYS     logTS     logEl   logCost\n",
       "0  2.853082  2.903978  0.027013  0.722228\n",
       "1  2.783033  2.848887 -0.137653  0.648469\n",
       "2  2.696562  2.761375 -0.167157  0.627099\n",
       "3  2.850750  2.898467 -0.012814  0.713631\n",
       "4  2.728436  2.791117  0.049293  0.650099\n",
       "5  2.786175  2.849362 -0.134061  0.654337\n",
       "6  2.697508  2.762200 -0.178479  0.630372\n",
       "7  2.480417  2.540645  0.139358  0.602309\n",
       "8  2.698689  2.763435 -0.167984  0.631303\n",
       "9  2.673629  2.743979 -0.046944  0.672412"
      ]
     },
     "execution_count": 11,
     "metadata": {},
     "output_type": "execute_result"
    }
   ],
   "source": [
    "prop2 = pd.read_excel('MPR_RF_BO_Target-RT_TiAl2Cr2Nb_wCostmod-2_top10.xlsx')\n",
    "prop2 = prop2.iloc[:10, 22:26]\n",
    "prop2"
   ]
  },
  {
   "cell_type": "code",
   "execution_count": 12,
   "metadata": {},
   "outputs": [
    {
     "data": {
      "text/plain": [
       "logYS      2.724828\n",
       "logTS      2.786345\n",
       "logEl     -0.062943\n",
       "logCost    0.655226\n",
       "dtype: float64"
      ]
     },
     "execution_count": 12,
     "metadata": {},
     "output_type": "execute_result"
    }
   ],
   "source": [
    "prop2_mean = prop2.mean()\n",
    "prop2_mean"
   ]
  },
  {
   "cell_type": "code",
   "execution_count": null,
   "metadata": {},
   "outputs": [
    {
     "data": {
      "application/vnd.microsoft.datawrangler.viewer.v0+json": {
       "columns": [
        {
         "name": "index",
         "rawType": "int64",
         "type": "integer"
        },
        {
         "name": "YS",
         "rawType": "float64",
         "type": "float"
        },
        {
         "name": "TS",
         "rawType": "float64",
         "type": "float"
        },
        {
         "name": "El",
         "rawType": "float64",
         "type": "float"
        },
        {
         "name": "Cost",
         "rawType": "float64",
         "type": "float"
        }
       ],
       "conversionMethod": "pd.DataFrame",
       "ref": "c505f478-274e-4c94-bffb-4ed763123ad2",
       "rows": [
        [
         "0",
         "490.68",
         "582.31",
         "1.01",
         "4.86"
        ]
       ],
       "shape": {
        "columns": 4,
        "rows": 1
       }
      },
      "text/html": [
       "<div>\n",
       "<style scoped>\n",
       "    .dataframe tbody tr th:only-of-type {\n",
       "        vertical-align: middle;\n",
       "    }\n",
       "\n",
       "    .dataframe tbody tr th {\n",
       "        vertical-align: top;\n",
       "    }\n",
       "\n",
       "    .dataframe thead th {\n",
       "        text-align: right;\n",
       "    }\n",
       "</style>\n",
       "<table border=\"1\" class=\"dataframe\">\n",
       "  <thead>\n",
       "    <tr style=\"text-align: right;\">\n",
       "      <th></th>\n",
       "      <th>YS</th>\n",
       "      <th>TS</th>\n",
       "      <th>El</th>\n",
       "      <th>Cost</th>\n",
       "    </tr>\n",
       "  </thead>\n",
       "  <tbody>\n",
       "    <tr>\n",
       "      <th>0</th>\n",
       "      <td>490.68</td>\n",
       "      <td>582.31</td>\n",
       "      <td>1.01</td>\n",
       "      <td>4.86</td>\n",
       "    </tr>\n",
       "  </tbody>\n",
       "</table>\n",
       "</div>"
      ],
      "text/plain": [
       "       YS      TS    El  Cost\n",
       "0  490.68  582.31  1.01  4.86"
      ]
     },
     "execution_count": 13,
     "metadata": {},
     "output_type": "execute_result"
    }
   ],
   "source": [
    "prop2_pred = pd.read_excel('MPR_RF_BO_Target-RT_TiAl2Cr2Nb_wCostmod-2_top10_Properties.xlsx')\n",
    "prop2_pred = prop2_pred.iloc[:,1:]\n",
    "prop2_pred"
   ]
  },
  {
   "cell_type": "code",
   "execution_count": 14,
   "metadata": {},
   "outputs": [
    {
     "data": {
      "image/png": "[encoded data removed]",
      "text/plain": [
       "<Figure size 1000x1000 with 4 Axes>"
      ]
     },
     "metadata": {},
     "output_type": "display_data"
    }
   ],
   "source": [
    "# Create subplots: 1 rows, 4 column\n",
    "fig, axs = plt.subplots(2, 2, figsize=(10,10))\n",
    "\n",
    "# First plot: Composition\n",
    "cols_to_plot = [\"Ti\", \"Al\", \"Nb\", \"Cr\"]\n",
    "axs[0][0].boxplot(comp2[cols_to_plot])\n",
    "axs[0][0].set_title(\"Box Plot for elements of C-II predictions\", fontsize=14)\n",
    "axs[0][0].set_ylabel(\"At. %\", fontsize=14)\n",
    "# Define the x positions corresponding to each boxplot and label them with element names\n",
    "x_positions = range(1, len(cols_to_plot) + 1)\n",
    "axs[0][0].set_xticks(ticks=x_positions, labels=cols_to_plot)\n",
    "# Overlay the mean values as diamond markers.\n",
    "axs[0][0].plot(x_positions, comp2_mean[cols_to_plot], marker='D', color='cadetblue', linestyle='None', label='Mean composition')\n",
    "axs[0][0].tick_params(axis='x', labelsize=12)\n",
    "axs[0][0].tick_params(axis='y', labelsize=12)\n",
    "axs[0][0].grid(True)\n",
    "axs[0][0].legend(fontsize=10)\n",
    "\n",
    "# Second plot: YS and TS\n",
    "axs[0][1].boxplot(10**prop2[[\"logYS\", \"logTS\"]])\n",
    "axs[0][1].set_title(r\"Box Plot for $\\sigma_y$ and $\\sigma$ for C-II predictions\", fontsize=14)\n",
    "axs[0][1].set_ylabel(\"MPa\", fontsize=14)\n",
    "x_positions = range(1, len([\"YS\", \"TS\"]) + 1)\n",
    "axs[0][1].set_xticks(ticks=x_positions, labels=[r\"$\\sigma_y$\", r\"$\\sigma$\"])\n",
    "# Extract mean values for YS and TS\n",
    "mean_values = [10**prop2_mean[\"logYS\"], 10**prop2_mean[\"logTS\"]]\n",
    "axs[0][1].plot(x_positions, mean_values, marker='D', color='cadetblue', linestyle='None', label='Mean values')\n",
    "# Extract predicted values for YS and TS\n",
    "predicted_values = [prop2_pred[\"YS\"], prop2_pred[\"TS\"]]\n",
    "axs[0][1].plot(x_positions, predicted_values, marker='o', color='indianred', linestyle='None', label='Predicted values')\n",
    "axs[0][1].tick_params(axis='x', labelsize=12)\n",
    "axs[0][1].tick_params(axis='y', labelsize=12)\n",
    "axs[0][1].grid(True)\n",
    "axs[0][1].legend(fontsize=10)\n",
    "\n",
    "# Third plot: El\n",
    "axs[1][0].boxplot(10**prop2[[\"logEl\"]])\n",
    "axs[1][0].set_title(r\"Box Plot for $\\delta$ for C-II predictions\", fontsize=14)\n",
    "axs[1][0].set_ylabel(\"%\", fontsize=14)\n",
    "x_positions = range(1, len([\"El\"]) + 1)\n",
    "axs[1][0].set_xticks(ticks=x_positions, labels=[r\"$\\delta$\"])\n",
    "# Extract mean values for El\n",
    "axs[1][0].plot(x_positions, 10**prop2_mean[\"logEl\"], marker='D', color='cadetblue', linestyle='None', label='Mean values')\n",
    "# Extract predicted values for El\n",
    "axs[1][0].plot(x_positions, prop2_pred[\"El\"], marker='o', color='indianred', linestyle='None', label='Predicted values')\n",
    "axs[1][0].tick_params(axis='x', labelsize=12)\n",
    "axs[1][0].tick_params(axis='y', labelsize=12)\n",
    "axs[1][0].grid(True)\n",
    "axs[1][0].legend(fontsize=10)\n",
    "\n",
    "# Fourth plot: Cost\n",
    "axs[1][1].boxplot(10**prop2[[\"logCost\"]])\n",
    "axs[1][1].set_title(\"Box Plot for $Cost$ for C-II predictions\", fontsize=14)\n",
    "axs[1][1].set_ylabel(\"$/kg\", fontsize=14)\n",
    "x_positions = range(1, len([\"Cost\"]) + 1)\n",
    "axs[1][1].set_xticks(ticks=x_positions, labels=[r\"$Cost$\"])\n",
    "# Extract mean values for El\n",
    "axs[1][1].plot(x_positions, 10**prop2_mean[\"logCost\"], marker='D', color='cadetblue', linestyle='None', label='Mean values')\n",
    "# Extract predicted values for El\n",
    "axs[1][1].plot(x_positions, prop2_pred[\"Cost\"], marker='o', color='indianred', linestyle='None', label='Predicted values')\n",
    "axs[1][1].tick_params(axis='x', labelsize=12)\n",
    "axs[1][1].tick_params(axis='y', labelsize=12)\n",
    "axs[1][1].grid(True)\n",
    "axs[1][1].legend(fontsize=10)\n",
    "\n",
    "plt.tight_layout()\n",
    "plt.show()"
   ]
  },
  {
   "cell_type": "code",
   "execution_count": 15,
   "metadata": {},
   "outputs": [],
   "source": [
    "fig.savefig('Plots/Box Plot Predictions C-II.jpg')"
   ]
  },
  {
   "cell_type": "code",
   "execution_count": null,
   "metadata": {},
   "outputs": [],
   "source": []
  }
 ],
 "metadata": {
  "kernelspec": {
   "display_name": "tf",
   "language": "python",
   "name": "python3"
  },
  "language_info": {
   "codemirror_mode": {
    "name": "ipython",
    "version": 3
   },
   "file_extension": ".py",
   "mimetype": "text/x-python",
   "name": "python",
   "nbconvert_exporter": "python",
   "pygments_lexer": "ipython3",
   "version": "3.9.18"
  }
 },
 "nbformat": 4,
 "nbformat_minor": 2
}
